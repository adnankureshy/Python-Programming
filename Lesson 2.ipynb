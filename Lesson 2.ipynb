{
 "cells": [
  {
   "cell_type": "markdown",
   "id": "4b27b2b7-8566-4a07-8ef5-31c18be58922",
   "metadata": {},
   "source": [
    "# Python Fundamental - Lesson 2\n",
    "## input() function"
   ]
  },
  {
   "cell_type": "code",
   "execution_count": 1,
   "id": "31211486-27b6-4c26-a019-5851297b2b79",
   "metadata": {},
   "outputs": [
    {
     "name": "stdout",
     "output_type": "stream",
     "text": [
      "Enter a number: \n"
     ]
    },
    {
     "name": "stdin",
     "output_type": "stream",
     "text": [
      " 1\n"
     ]
    },
    {
     "name": "stdout",
     "output_type": "stream",
     "text": [
      "1\n"
     ]
    }
   ],
   "source": [
    "print(\"Enter a number: \")\n",
    "x = input()\n",
    "\n",
    "print(x)"
   ]
  },
  {
   "cell_type": "code",
   "execution_count": null,
   "id": "a9a14190-90c3-4ce5-a22e-9fd7f24ffce5",
   "metadata": {},
   "outputs": [],
   "source": []
  }
 ],
 "metadata": {
  "kernelspec": {
   "display_name": "Python 3 (ipykernel)",
   "language": "python",
   "name": "python3"
  },
  "language_info": {
   "codemirror_mode": {
    "name": "ipython",
    "version": 3
   },
   "file_extension": ".py",
   "mimetype": "text/x-python",
   "name": "python",
   "nbconvert_exporter": "python",
   "pygments_lexer": "ipython3",
   "version": "3.10.2"
  }
 },
 "nbformat": 4,
 "nbformat_minor": 5
}
