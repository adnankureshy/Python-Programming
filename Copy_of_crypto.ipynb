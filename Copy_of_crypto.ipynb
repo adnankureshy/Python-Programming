{
  "nbformat": 4,
  "nbformat_minor": 0,
  "metadata": {
    "colab": {
      "name": "Copy of crypto.ipynb",
      "provenance": [],
      "include_colab_link": true
    },
    "kernelspec": {
      "name": "python3",
      "display_name": "Python 3"
    }
  },
  "cells": [
    {
      "cell_type": "markdown",
      "metadata": {
        "id": "view-in-github",
        "colab_type": "text"
      },
      "source": [
        "<a href=\"https://colab.research.google.com/github/adnankureshy/Python-Programming/blob/main/Copy_of_crypto.ipynb\" target=\"_parent\"><img src=\"https://colab.research.google.com/assets/colab-badge.svg\" alt=\"Open In Colab\"/></a>"
      ]
    },
    {
      "cell_type": "markdown",
      "metadata": {
        "id": "cmgMYh2AlEc4"
      },
      "source": [
        "# A few ciphers in Python"
      ]
    },
    {
      "cell_type": "code",
      "metadata": {
        "id": "PnGde3E46NC_"
      },
      "source": [
        "from random import randint, seed, shuffle\n",
        "\n",
        "PLAIN  = \"abcdefghijklmnopqrstuvwxyz\"\n",
        "CIPHER = \"ABCDEFGHIJKLMNOPQRSTUVWXYZ\""
      ],
      "execution_count": null,
      "outputs": []
    },
    {
      "cell_type": "markdown",
      "metadata": {
        "id": "gFX1DEMAkSuR"
      },
      "source": [
        "## The Caesar Cipher"
      ]
    },
    {
      "cell_type": "code",
      "metadata": {
        "id": "qaiLt6UdtrXo"
      },
      "source": [
        "def caesar(message,key):\n",
        "  message = message.lower()\n",
        "  ciphertext = \"\"\n",
        "  for character in message:\n",
        "    position = PLAIN.find(character)\n",
        "    if position == -1:\n",
        "      ciphertext += character\n",
        "    else:\n",
        "      ciphertext += CIPHER[(position + key) % 26]\n",
        "  return ciphertext\n",
        "\n",
        "def uncaesar(message,key):\n",
        "  return (caesar(message,-key).lower())"
      ],
      "execution_count": null,
      "outputs": []
    },
    {
      "cell_type": "code",
      "metadata": {
        "id": "dd84EEoMvBH4",
        "colab": {
          "base_uri": "https://localhost:8080/",
          "height": 35
        },
        "outputId": "e1efaec4-b80d-457a-a403-c3f63962f53a"
      },
      "source": [
        "caesar('wednesdays',6)"
      ],
      "execution_count": null,
      "outputs": [
        {
          "output_type": "execute_result",
          "data": {
            "application/vnd.google.colaboratory.intrinsic+json": {
              "type": "string"
            },
            "text/plain": [
              "'CKJTKYJGEY'"
            ]
          },
          "metadata": {
            "tags": []
          },
          "execution_count": 4
        }
      ]
    },
    {
      "cell_type": "code",
      "metadata": {
        "id": "z4VaFUP7vEo_",
        "colab": {
          "base_uri": "https://localhost:8080/",
          "height": 35
        },
        "outputId": "3ebc4f96-d5e1-42c1-82db-cecd80db7fb0"
      },
      "source": [
        "uncaesar('CKJTKYJGEY',6)"
      ],
      "execution_count": null,
      "outputs": [
        {
          "output_type": "execute_result",
          "data": {
            "application/vnd.google.colaboratory.intrinsic+json": {
              "type": "string"
            },
            "text/plain": [
              "'wednesdays'"
            ]
          },
          "metadata": {
            "tags": []
          },
          "execution_count": 8
        }
      ]
    },
    {
      "cell_type": "markdown",
      "metadata": {
        "id": "v17YGWc_kgko"
      },
      "source": [
        "## Substitution cipher"
      ]
    },
    {
      "cell_type": "code",
      "metadata": {
        "id": "_YMq2Zvwvtzs"
      },
      "source": [
        "def substitution(message,key=None):\n",
        "  seed(key)\n",
        "  thiscipher=list(CIPHER)\n",
        "  shuffle(thiscipher)\n",
        "  thiscipher=''.join(thiscipher)\n",
        "\n",
        "  message = message.lower()\n",
        "  ciphertext = \"\"\n",
        "  for character in message:\n",
        "    position = PLAIN.find(character)\n",
        "    if position == -1:\n",
        "      ciphertext += character\n",
        "    else:\n",
        "      ciphertext += thiscipher[position]\n",
        "  return ciphertext\n",
        "\n",
        "def unsubstitution(message,key=None):\n",
        "  seed(key)\n",
        "  thiscipher=list(CIPHER)\n",
        "  shuffle(thiscipher)\n",
        "  thiscipher=''.join(thiscipher)\n",
        "  print\n",
        "  \n",
        "  message = message.upper()\n",
        "  plaintext = \"\"\n",
        "  for character in message:\n",
        "    position = thiscipher.find(character)\n",
        "    if position == -1:\n",
        "      plaintext += character\n",
        "    else:\n",
        "      plaintext += PLAIN[position]\n",
        "  return plaintext\n"
      ],
      "execution_count": null,
      "outputs": []
    },
    {
      "cell_type": "code",
      "metadata": {
        "id": "JOzj_gij7o32",
        "colab": {
          "base_uri": "https://localhost:8080/",
          "height": 35
        },
        "outputId": "9d0fbdda-1f68-466f-ee9e-dfa9b96947d3"
      },
      "source": [
        "substitution('yes',0)"
      ],
      "execution_count": null,
      "outputs": [
        {
          "output_type": "execute_result",
          "data": {
            "application/vnd.google.colaboratory.intrinsic+json": {
              "type": "string"
            },
            "text/plain": [
              "'YGZ'"
            ]
          },
          "metadata": {
            "tags": []
          },
          "execution_count": 19
        }
      ]
    },
    {
      "cell_type": "code",
      "metadata": {
        "id": "nDlpBGeT8IWx",
        "colab": {
          "base_uri": "https://localhost:8080/",
          "height": 35
        },
        "outputId": "9184a12a-2454-439e-92cf-cd3269696855"
      },
      "source": [
        "unsubstitution('KGCCR',0)"
      ],
      "execution_count": null,
      "outputs": [
        {
          "output_type": "execute_result",
          "data": {
            "text/plain": [
              "'hello'"
            ]
          },
          "metadata": {
            "tags": []
          },
          "execution_count": 59
        }
      ]
    },
    {
      "cell_type": "markdown",
      "metadata": {
        "id": "K5i3dNQyknGx"
      },
      "source": [
        "## Vigenere (polyalphabetic) cipher"
      ]
    },
    {
      "cell_type": "code",
      "metadata": {
        "id": "YJEazXQE_mzF"
      },
      "source": [
        "def vigenere(message,key):\n",
        "  message = message.lower()\n",
        "  key = key.lower()\n",
        "  ciphertext = \"\"\n",
        "  for i in range(len(message)):\n",
        "    ciphertext += caesar(message[i],PLAIN.find(key[i%len(key)]))\n",
        "  return ciphertext\n",
        "\n",
        "def unvigenere(message,key):\n",
        "  message = message.lower()\n",
        "  key = key.lower()\n",
        "  plaintext = \"\"\n",
        "  for i in range(len(message)):\n",
        "    plaintext += uncaesar(message[i],PLAIN.find(key[i%len(key)]))\n",
        "  return plaintext"
      ],
      "execution_count": null,
      "outputs": []
    },
    {
      "cell_type": "code",
      "metadata": {
        "id": "KD0VpqA9A11l",
        "colab": {
          "base_uri": "https://localhost:8080/",
          "height": 35
        },
        "outputId": "a7cca21c-4877-4451-b6d4-5419e2c62d42"
      },
      "source": [
        "vigenere('miles is brilliant','hello')"
      ],
      "execution_count": null,
      "outputs": [
        {
          "output_type": "execute_result",
          "data": {
            "text/plain": [
              "'TMWPG MD PYMWWWHRE'"
            ]
          },
          "metadata": {
            "tags": []
          },
          "execution_count": 87
        }
      ]
    },
    {
      "cell_type": "code",
      "metadata": {
        "id": "Aeqf7IydA49Q",
        "colab": {
          "base_uri": "https://localhost:8080/",
          "height": 35
        },
        "outputId": "f1af4ecf-dd0d-4591-89f0-9e12175aa30d"
      },
      "source": [
        "unvigenere('TMWPG MD PYMWWWHRE','hello')"
      ],
      "execution_count": null,
      "outputs": [
        {
          "output_type": "execute_result",
          "data": {
            "text/plain": [
              "'miles is brilliant'"
            ]
          },
          "metadata": {
            "tags": []
          },
          "execution_count": 88
        }
      ]
    },
    {
      "cell_type": "markdown",
      "metadata": {
        "id": "pXuEar-Ok6Bm"
      },
      "source": [
        "## Vernam (one time pad) cipher \n",
        "\n",
        "Using Python's pseudorandom number generator"
      ]
    },
    {
      "cell_type": "code",
      "metadata": {
        "id": "zbF2MzXYBqAv"
      },
      "source": [
        "# Not a true one time pad, as relies on Python's pseudo random number generator!\n",
        "\n",
        "def otp(message, key=None):\n",
        "  seed(key)\n",
        "  message = message.lower()\n",
        "  ciphertext = \"\"\n",
        "  for character in message:\n",
        "    position = PLAIN.find(character)\n",
        "    if position == -1:\n",
        "      ciphertext += character\n",
        "    else:\n",
        "      ciphertext += caesar(character,randint(0,25))\n",
        "  return ciphertext\n",
        "\n",
        "def unotp(message, key=None):\n",
        "  seed(key)\n",
        "  message = message.lower()\n",
        "  plaintext = \"\"\n",
        "  for character in message:\n",
        "    position = PLAIN.find(character)\n",
        "    if position == -1:\n",
        "      plaintext += character\n",
        "    else:\n",
        "      plaintext += uncaesar(character,randint(0,25))\n",
        "  return plaintext"
      ],
      "execution_count": null,
      "outputs": []
    },
    {
      "cell_type": "code",
      "metadata": {
        "id": "YwyU2DimDxNp",
        "colab": {
          "base_uri": "https://localhost:8080/",
          "height": 35
        },
        "outputId": "5498f831-2d94-4483-967c-a2e7dbefdb66"
      },
      "source": [
        "otp('hello world',0)"
      ],
      "execution_count": null,
      "outputs": [
        {
          "output_type": "execute_result",
          "data": {
            "text/plain": [
              "'TCYMW MDDKM'"
            ]
          },
          "metadata": {
            "tags": []
          },
          "execution_count": 85
        }
      ]
    },
    {
      "cell_type": "code",
      "metadata": {
        "id": "YRLWOgvaD0Ga",
        "colab": {
          "base_uri": "https://localhost:8080/",
          "height": 35
        },
        "outputId": "77b22de9-f308-461e-c062-065fa45adc65"
      },
      "source": [
        "unotp('TCYMW MDDKM',0)"
      ],
      "execution_count": null,
      "outputs": [
        {
          "output_type": "execute_result",
          "data": {
            "text/plain": [
              "'hello world'"
            ]
          },
          "metadata": {
            "tags": []
          },
          "execution_count": 86
        }
      ]
    },
    {
      "cell_type": "code",
      "metadata": {
        "id": "_KI8vPZ-D_VC"
      },
      "source": [
        ""
      ],
      "execution_count": null,
      "outputs": []
    }
  ]
}